{
 "cells": [
  {
   "cell_type": "code",
   "execution_count": 1,
   "metadata": {
    "collapsed": true,
    "pycharm": {
     "name": "#%%\n"
    }
   },
   "outputs": [],
   "source": [
    "import numpy as np\n",
    "import torch\n",
    "import matplotlib.pyplot as plt"
   ]
  },
  {
   "cell_type": "code",
   "execution_count": 2,
   "outputs": [],
   "source": [
    "from model.classifier import KNN\n",
    "from util.datasets import train_test_split, artificial_one\n",
    "from util.plotlib import *\n",
    "from util.metrics import *\n",
    "from sklearn.utils import shuffle\n",
    "from sklearn.datasets import load_iris"
   ],
   "metadata": {
    "collapsed": false,
    "pycharm": {
     "name": "#%%\n"
    }
   }
  },
  {
   "cell_type": "code",
   "execution_count": 3,
   "outputs": [],
   "source": [
    "iris = load_iris()\n",
    "attr = [2, 3]\n",
    "samples, targets = normalize(iris.data[:, attr]), iris.target"
   ],
   "metadata": {
    "collapsed": false,
    "pycharm": {
     "name": "#%%\n"
    }
   }
  },
  {
   "cell_type": "code",
   "execution_count": 4,
   "outputs": [],
   "source": [
    "realizations = 20\n",
    "ks_2b_tested = [3, 6, 9, 12, 15]\n",
    "save_state_hitrate_k = []\n",
    "save_state_cfs_matrix_k = []\n",
    "save_state_samples_k = []\n",
    "save_state_targets_k = []\n",
    "save_state_predicted_k = []"
   ],
   "metadata": {
    "collapsed": false,
    "pycharm": {
     "name": "#%%\n"
    }
   }
  },
  {
   "cell_type": "code",
   "execution_count": 5,
   "outputs": [],
   "source": [
    "for r in range(realizations):\n",
    "    save_temp_samples = []\n",
    "    save_temp_targets = []\n",
    "    save_temp_predicted = []\n",
    "    save_temp_hitrate = []\n",
    "    save_temp_cfs_matrix = []\n",
    "    for i, k in enumerate(ks_2b_tested):\n",
    "        _hitrate = 0\n",
    "        _cfs_matrix = []\n",
    "\n",
    "        samples, targets = shuffle(samples, targets)\n",
    "\n",
    "        x_train, x_test, y_train, y_test = train_test_split(samples, targets, .75)\n",
    "        clf = KNN(k=k, samples=x_train, targets=y_train)\n",
    "\n",
    "        predicted = clf.predict(x_test)\n",
    "        _hitrate = hitrate(y_test, predicted)\n",
    "        _cfs_matrix = confusion_matrix(y_test, predicted, len(np.unique(targets)))\n",
    "\n",
    "        # saving temporary data\n",
    "        save_temp_samples.append(samples)\n",
    "        save_temp_targets.append(targets)\n",
    "        save_temp_predicted.append(predicted)\n",
    "        save_temp_hitrate.append(_hitrate)\n",
    "        save_temp_cfs_matrix.append(_cfs_matrix)\n",
    "\n",
    "\n",
    "    # saving definitive data\n",
    "    save_state_samples_k.append(save_temp_samples)\n",
    "    save_state_targets_k.append(save_temp_targets)\n",
    "    save_state_predicted_k.append(save_temp_predicted)\n",
    "    save_state_hitrate_k.append(save_temp_hitrate)\n",
    "    save_state_cfs_matrix_k.append(save_temp_cfs_matrix)"
   ],
   "metadata": {
    "collapsed": false,
    "pycharm": {
     "name": "#%%\n"
    }
   }
  },
  {
   "cell_type": "code",
   "execution_count": 6,
   "outputs": [],
   "source": [
    "# visualizing hitrates\n",
    "save_state_hitrate_k = np.asarray(save_state_hitrate_k)\n",
    "# save_state_hitrate_k"
   ],
   "metadata": {
    "collapsed": false,
    "pycharm": {
     "name": "#%%\n"
    }
   }
  },
  {
   "cell_type": "code",
   "execution_count": 7,
   "outputs": [
    {
     "data": {
      "text/plain": "array([ 8,  2,  6,  0, 11], dtype=int64)"
     },
     "execution_count": 7,
     "metadata": {},
     "output_type": "execute_result"
    }
   ],
   "source": [
    "# better and worst hitrate indexes\n",
    "argsminmax(save_state_hitrate_k, np.argmax)"
   ],
   "metadata": {
    "collapsed": false,
    "pycharm": {
     "name": "#%%\n"
    }
   }
  },
  {
   "cell_type": "code",
   "execution_count": 8,
   "outputs": [
    {
     "data": {
      "text/plain": "array([ 3, 18,  4,  1, 15], dtype=int64)"
     },
     "execution_count": 8,
     "metadata": {},
     "output_type": "execute_result"
    }
   ],
   "source": [
    "argsminmax(save_state_hitrate_k, np.argmin)"
   ],
   "metadata": {
    "collapsed": false,
    "pycharm": {
     "name": "#%%\n"
    }
   }
  },
  {
   "cell_type": "code",
   "execution_count": 9,
   "outputs": [],
   "source": [
    "# accuracy and std by k-value\n",
    "acc = np.asarray(accuracy(save_state_hitrate_k)).reshape(len(ks_2b_tested), 1)\n",
    "argmax, argmin = argsminmax(acc, np.argmax), argsminmax(acc, np.argmin)"
   ],
   "metadata": {
    "collapsed": false,
    "pycharm": {
     "name": "#%%\n"
    }
   }
  },
  {
   "cell_type": "code",
   "execution_count": 10,
   "outputs": [
    {
     "data": {
      "text/plain": "<Figure size 640x480 with 1 Axes>",
      "image/png": "[encoded data removed]"
     },
     "metadata": {},
     "output_type": "display_data"
    }
   ],
   "source": [
    "std = standard_deviation(save_state_hitrate_k)\n",
    "plot_bar_std(std, ks_2b_tested)"
   ],
   "metadata": {
    "collapsed": false,
    "pycharm": {
     "name": "#%%\n"
    }
   }
  },
  {
   "cell_type": "code",
   "execution_count": null,
   "outputs": [],
   "source": [
    "for i in (argmax, argmin):\n",
    "    tsamples = save_state_samples_k[i][i]\n",
    "    ttargets = save_state_targets_k[i][i]\n",
    "    tk = ks_2b_tested[i]\n",
    "\n",
    "    x_train, x_test, y_train, y_test = train_test_split(tsamples, ttargets, .75)\n",
    "    clf = KNN(tk, x_train, y_train)\n",
    "    plot_decision_boundary(clf, x_test, y_test)\n",
    "    plot_confusion_matrix(clf, x_test, y_test)"
   ],
   "metadata": {
    "collapsed": false,
    "pycharm": {
     "name": "#%%\n"
    }
   }
  }
 ],
 "metadata": {
  "kernelspec": {
   "name": "venv",
   "language": "python",
   "display_name": "venv"
  },
  "language_info": {
   "codemirror_mode": {
    "name": "ipython",
    "version": 2
   },
   "file_extension": ".py",
   "mimetype": "text/x-python",
   "name": "python",
   "nbconvert_exporter": "python",
   "pygments_lexer": "ipython2",
   "version": "2.7.6"
  }
 },
 "nbformat": 4,
 "nbformat_minor": 0
}