{
 "cells": [
  {
   "cell_type": "code",
   "execution_count": 1,
   "outputs": [],
   "source": [
    "import numpy as np"
   ],
   "metadata": {
    "collapsed": false,
    "pycharm": {
     "name": "#%%\n"
    }
   }
  },
  {
   "cell_type": "code",
   "execution_count": 2,
   "outputs": [],
   "source": [
    "class NCC:\n",
    "    def fit(self, X_train, y_train):\n",
    "        n_samples, n_features = X_train.shape\n",
    "        self._classes = np.unique(y_train)\n",
    "        n_classes = len(self._classes)\n",
    "        self._centroids = np.zeros(shape=(n_classes, n_features))\n",
    "        # Compute the per-class centroids (means)\n",
    "        for cls in self._classes:\n",
    "            # Fetch all samples with this class label\n",
    "            idxs = np.where(y_train==cls)\n",
    "            # Compute the mean value of each 16-bit image\n",
    "            self._centroids[cls] = np.mean(X_train[idxs], axis=0)\n",
    "        return self\n",
    "    def predict(self, X_test):\n",
    "        preds = np.zeros(shape=(len(X_test), n_classes))\n",
    "        for i, x in enumerate(X_test):\n",
    "            # Compute dist to per-class centers\n",
    "            preds[i] = [np.linalg.norm(x - centroid) for centroid in self._centroids]\n",
    "        y_pred = np.argmin(preds, axis=1)\n",
    "        return y_pred"
   ],
   "metadata": {
    "collapsed": false,
    "pycharm": {
     "name": "#%%\n"
    }
   }
  },
  {
   "cell_type": "code",
   "execution_count": null,
   "outputs": [],
   "source": [],
   "metadata": {
    "collapsed": false,
    "pycharm": {
     "name": "#%%\n"
    }
   }
  }
 ],
 "metadata": {
  "kernelspec": {
   "display_name": "Python 3",
   "language": "python",
   "name": "python3"
  },
  "language_info": {
   "codemirror_mode": {
    "name": "ipython",
    "version": 2
   },
   "file_extension": ".py",
   "mimetype": "text/x-python",
   "name": "python",
   "nbconvert_exporter": "python",
   "pygments_lexer": "ipython2",
   "version": "2.7.6"
  }
 },
 "nbformat": 4,
 "nbformat_minor": 0
}