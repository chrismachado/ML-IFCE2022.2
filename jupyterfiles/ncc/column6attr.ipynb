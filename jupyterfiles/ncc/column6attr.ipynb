{
 "cells": [
  {
   "cell_type": "code",
   "execution_count": 8,
   "metadata": {
    "collapsed": true,
    "pycharm": {
     "name": "#%%\n"
    }
   },
   "outputs": [],
   "source": [
    "import numpy as np\n",
    "import matplotlib.pyplot as plt"
   ]
  },
  {
   "cell_type": "code",
   "execution_count": 9,
   "outputs": [],
   "source": [
    "from model.classifier import KNN\n",
    "from util.datasets import train_test_split, vertebral_column\n",
    "from util.plotlib import *\n",
    "from util.metrics import *\n",
    "from sklearn.utils import shuffle"
   ],
   "metadata": {
    "collapsed": false,
    "pycharm": {
     "name": "#%%\n"
    }
   }
  },
  {
   "cell_type": "code",
   "execution_count": 10,
   "outputs": [],
   "source": [
    "samples, targets = vertebral_column(path='../../data/column_2C.dat')\n",
    "attr = [0, 1, 2, 3, 4, 5]\n",
    "samples = normalize(samples[:, attr])"
   ],
   "metadata": {
    "collapsed": false,
    "pycharm": {
     "name": "#%%\n"
    }
   }
  },
  {
   "cell_type": "code",
   "execution_count": 11,
   "outputs": [],
   "source": [
    "realizations = 20\n",
    "ks_2b_tested = [3, 6, 9, 15, 19]\n",
    "save_state_hitrate_k = []\n",
    "save_state_cfs_matrix_k = []\n",
    "save_state_samples_k = []\n",
    "save_state_targets_k = []\n",
    "save_state_predicted_k = []"
   ],
   "metadata": {
    "collapsed": false,
    "pycharm": {
     "name": "#%%\n"
    }
   }
  },
  {
   "cell_type": "code",
   "execution_count": 12,
   "outputs": [],
   "source": [
    "for r in range(realizations):\n",
    "    save_temp_samples = []\n",
    "    save_temp_targets = []\n",
    "    save_temp_predicted = []\n",
    "    save_temp_hitrate = []\n",
    "    save_temp_cfs_matrix = []\n",
    "    for i, k in enumerate(ks_2b_tested):\n",
    "        _hitrate = 0\n",
    "        _cfs_matrix = []\n",
    "\n",
    "        samples, targets = shuffle(samples, targets)\n",
    "\n",
    "        x_train, x_test, y_train, y_test = train_test_split(samples, targets, .75)\n",
    "        clf = KNN(k=k, samples=x_train, targets=y_train)\n",
    "\n",
    "        predicted = clf.predict(x_test)\n",
    "        _hitrate = hitrate(y_test, predicted)\n",
    "        _cfs_matrix = confusion_matrix(y_test, predicted, len(np.unique(targets)))\n",
    "\n",
    "        # saving temporary data\n",
    "        save_temp_samples.append(samples)\n",
    "        save_temp_targets.append(targets)\n",
    "        save_temp_predicted.append(predicted)\n",
    "        save_temp_hitrate.append(_hitrate)\n",
    "        save_temp_cfs_matrix.append(_cfs_matrix)\n",
    "\n",
    "\n",
    "    # saving definitive data\n",
    "    save_state_samples_k.append(save_temp_samples)\n",
    "    save_state_targets_k.append(save_temp_targets)\n",
    "    save_state_predicted_k.append(save_temp_predicted)\n",
    "    save_state_hitrate_k.append(save_temp_hitrate)\n",
    "    save_state_cfs_matrix_k.append(save_temp_cfs_matrix)"
   ],
   "metadata": {
    "collapsed": false,
    "pycharm": {
     "name": "#%%\n"
    }
   }
  },
  {
   "cell_type": "code",
   "execution_count": 13,
   "outputs": [
    {
     "data": {
      "text/plain": "array([[0.66666667, 0.80769231, 0.76923077, 0.83333333, 0.83333333],\n       [0.78205128, 0.80769231, 0.79487179, 0.74358974, 0.79487179],\n       [0.82051282, 0.78205128, 0.75641026, 0.80769231, 0.80769231],\n       [0.84615385, 0.76923077, 0.74358974, 0.80769231, 0.83333333],\n       [0.75641026, 0.80769231, 0.84615385, 0.79487179, 0.84615385],\n       [0.78205128, 0.67948718, 0.82051282, 0.84615385, 0.78205128],\n       [0.75641026, 0.80769231, 0.71794872, 0.84615385, 0.80769231],\n       [0.73076923, 0.83333333, 0.75641026, 0.75641026, 0.76923077],\n       [0.78205128, 0.79487179, 0.75641026, 0.76923077, 0.83333333],\n       [0.82051282, 0.71794872, 0.88461538, 0.85897436, 0.84615385],\n       [0.73076923, 0.82051282, 0.80769231, 0.79487179, 0.82051282],\n       [0.79487179, 0.82051282, 0.78205128, 0.84615385, 0.83333333],\n       [0.76923077, 0.75641026, 0.75641026, 0.75641026, 0.82051282],\n       [0.73076923, 0.73076923, 0.76923077, 0.76923077, 0.71794872],\n       [0.88461538, 0.78205128, 0.73076923, 0.67948718, 0.79487179],\n       [0.74358974, 0.67948718, 0.82051282, 0.79487179, 0.78205128],\n       [0.80769231, 0.69230769, 0.80769231, 0.80769231, 0.83333333],\n       [0.74358974, 0.71794872, 0.73076923, 0.85897436, 0.80769231],\n       [0.80769231, 0.76923077, 0.82051282, 0.79487179, 0.76923077],\n       [0.75641026, 0.76923077, 0.78205128, 0.79487179, 0.73076923]])"
     },
     "execution_count": 13,
     "metadata": {},
     "output_type": "execute_result"
    }
   ],
   "source": [
    "# visualizing hitrates\n",
    "save_state_hitrate_k = np.asarray(save_state_hitrate_k)\n",
    "save_state_hitrate_k"
   ],
   "metadata": {
    "collapsed": false,
    "pycharm": {
     "name": "#%%\n"
    }
   }
  },
  {
   "cell_type": "code",
   "execution_count": 14,
   "outputs": [
    {
     "data": {
      "text/plain": "array([14,  7,  9,  9,  4], dtype=int64)"
     },
     "execution_count": 14,
     "metadata": {},
     "output_type": "execute_result"
    }
   ],
   "source": [
    "# better and worst hitrate indexes\n",
    "argsminmax(save_state_hitrate_k, np.argmax)"
   ],
   "metadata": {
    "collapsed": false,
    "pycharm": {
     "name": "#%%\n"
    }
   }
  },
  {
   "cell_type": "code",
   "execution_count": 15,
   "outputs": [
    {
     "data": {
      "text/plain": "array([ 0,  5,  6, 14, 13], dtype=int64)"
     },
     "execution_count": 15,
     "metadata": {},
     "output_type": "execute_result"
    }
   ],
   "source": [
    "argsminmax(save_state_hitrate_k, np.argmin)"
   ],
   "metadata": {
    "collapsed": false,
    "pycharm": {
     "name": "#%%\n"
    }
   }
  },
  {
   "cell_type": "code",
   "execution_count": 16,
   "outputs": [],
   "source": [
    "# accuracy and std by k-value\n",
    "acc = np.asarray(accuracy(save_state_hitrate_k)).reshape(len(ks_2b_tested), 1)\n",
    "argmax, argmin = argsminmax(acc, np.argmax), argsminmax(acc, np.argmin)"
   ],
   "metadata": {
    "collapsed": false,
    "pycharm": {
     "name": "#%%\n"
    }
   }
  },
  {
   "cell_type": "code",
   "execution_count": 17,
   "outputs": [
    {
     "data": {
      "text/plain": "<Figure size 432x288 with 1 Axes>",
      "image/png": "[encoded data removed]"
     },
     "metadata": {
      "needs_background": "light"
     },
     "output_type": "display_data"
    }
   ],
   "source": [
    "plot_bar_acc(accuracy(save_state_hitrate_k), ks_2b_tested)"
   ],
   "metadata": {
    "collapsed": false,
    "pycharm": {
     "name": "#%%\n"
    }
   }
  },
  {
   "cell_type": "code",
   "execution_count": 18,
   "outputs": [
    {
     "data": {
      "text/plain": "<Figure size 432x288 with 1 Axes>",
      "image/png": "[encoded data removed]"
     },
     "metadata": {
      "needs_background": "light"
     },
     "output_type": "display_data"
    }
   ],
   "source": [
    "std = standard_deviation(save_state_hitrate_k)\n",
    "plot_bar_std(std, ks_2b_tested)"
   ],
   "metadata": {
    "collapsed": false,
    "pycharm": {
     "name": "#%%\n"
    }
   }
  }
 ],
 "metadata": {
  "kernelspec": {
   "name": "venv",
   "language": "python",
   "display_name": "venv"
  },
  "language_info": {
   "codemirror_mode": {
    "name": "ipython",
    "version": 2
   },
   "file_extension": ".py",
   "mimetype": "text/x-python",
   "name": "python",
   "nbconvert_exporter": "python",
   "pygments_lexer": "ipython2",
   "version": "2.7.6"
  }
 },
 "nbformat": 4,
 "nbformat_minor": 0
}