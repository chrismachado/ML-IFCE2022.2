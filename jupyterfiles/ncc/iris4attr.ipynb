{
 "cells": [
  {
   "cell_type": "code",
   "execution_count": 1,
   "metadata": {
    "collapsed": true,
    "pycharm": {
     "name": "#%%\n"
    }
   },
   "outputs": [],
   "source": [
    "import numpy as np\n",
    "import torch\n",
    "import matplotlib.pyplot as plt"
   ]
  },
  {
   "cell_type": "code",
   "execution_count": 2,
   "outputs": [],
   "source": [
    "from model.classifier import KNN\n",
    "from util.datasets import train_test_split, artificial_one\n",
    "from util.plotlib import plot_bar_std, plot_bar_acc\n",
    "from util.metrics import *\n",
    "from sklearn.utils import shuffle\n",
    "from sklearn.datasets import load_iris"
   ],
   "metadata": {
    "collapsed": false,
    "pycharm": {
     "name": "#%%\n"
    }
   }
  },
  {
   "cell_type": "code",
   "execution_count": 3,
   "outputs": [],
   "source": [
    "iris = load_iris()\n",
    "attr = [0, 1, 2, 3]\n",
    "samples, targets = normalize(iris.data[:, attr]), iris.target"
   ],
   "metadata": {
    "collapsed": false,
    "pycharm": {
     "name": "#%%\n"
    }
   }
  },
  {
   "cell_type": "code",
   "execution_count": 4,
   "outputs": [],
   "source": [
    "realizations = 20\n",
    "ks_2b_tested = [3, 6, 9, 12, 15]\n",
    "save_state_hitrate_k = []\n",
    "save_state_cfs_matrix_k = []\n",
    "save_state_samples_k = []\n",
    "save_state_targets_k = []\n",
    "save_state_predicted_k = []"
   ],
   "metadata": {
    "collapsed": false,
    "pycharm": {
     "name": "#%%\n"
    }
   }
  },
  {
   "cell_type": "code",
   "execution_count": 5,
   "outputs": [],
   "source": [
    "for r in range(realizations):\n",
    "    save_temp_samples = []\n",
    "    save_temp_targets = []\n",
    "    save_temp_predicted = []\n",
    "    save_temp_hitrate = []\n",
    "    save_temp_cfs_matrix = []\n",
    "    for i, k in enumerate(ks_2b_tested):\n",
    "        _hitrate = 0\n",
    "        _cfs_matrix = []\n",
    "\n",
    "        samples, targets = shuffle(samples, targets)\n",
    "\n",
    "        x_train, x_test, y_train, y_test = train_test_split(samples, targets, .75)\n",
    "        clf = KNN(k=k, samples=x_train, targets=y_train)\n",
    "\n",
    "        predicted = clf.predict(x_test)\n",
    "        _hitrate = hitrate(y_test, predicted)\n",
    "        _cfs_matrix = confusion_matrix(y_test, predicted, len(np.unique(targets)))\n",
    "\n",
    "        # saving temporary data\n",
    "        save_temp_samples.append(samples)\n",
    "        save_temp_targets.append(targets)\n",
    "        save_temp_predicted.append(predicted)\n",
    "        save_temp_hitrate.append(_hitrate)\n",
    "        save_temp_cfs_matrix.append(_cfs_matrix)\n",
    "\n",
    "\n",
    "    # saving definitive data\n",
    "    save_state_samples_k.append(save_temp_samples)\n",
    "    save_state_targets_k.append(save_temp_targets)\n",
    "    save_state_predicted_k.append(save_temp_predicted)\n",
    "    save_state_hitrate_k.append(save_temp_hitrate)\n",
    "    save_state_cfs_matrix_k.append(save_temp_cfs_matrix)"
   ],
   "metadata": {
    "collapsed": false,
    "pycharm": {
     "name": "#%%\n"
    }
   }
  },
  {
   "cell_type": "code",
   "execution_count": 6,
   "outputs": [
    {
     "data": {
      "text/plain": "array([[0.97368421, 0.94736842, 1.        , 0.97368421, 0.97368421],\n       [0.97368421, 0.92105263, 0.97368421, 0.94736842, 0.92105263],\n       [0.94736842, 0.92105263, 1.        , 0.97368421, 1.        ],\n       [0.94736842, 0.94736842, 0.94736842, 0.94736842, 0.97368421],\n       [0.92105263, 0.94736842, 0.94736842, 0.94736842, 0.94736842],\n       [0.94736842, 0.92105263, 0.97368421, 1.        , 0.94736842],\n       [0.94736842, 1.        , 0.92105263, 0.94736842, 1.        ],\n       [0.97368421, 0.97368421, 1.        , 0.92105263, 0.94736842],\n       [0.97368421, 0.92105263, 0.92105263, 0.94736842, 0.94736842],\n       [0.97368421, 0.97368421, 0.92105263, 0.94736842, 1.        ],\n       [0.94736842, 0.89473684, 0.97368421, 1.        , 0.92105263],\n       [0.94736842, 0.94736842, 0.92105263, 0.94736842, 0.94736842],\n       [0.97368421, 0.97368421, 0.97368421, 1.        , 0.97368421],\n       [0.92105263, 0.97368421, 0.92105263, 0.94736842, 0.94736842],\n       [0.97368421, 0.92105263, 1.        , 0.94736842, 1.        ],\n       [0.97368421, 1.        , 0.97368421, 0.94736842, 0.92105263],\n       [0.92105263, 0.92105263, 1.        , 0.94736842, 1.        ],\n       [1.        , 0.94736842, 1.        , 0.97368421, 0.94736842],\n       [0.97368421, 0.94736842, 0.94736842, 0.97368421, 0.92105263],\n       [0.94736842, 0.97368421, 0.97368421, 0.94736842, 0.92105263]])"
     },
     "execution_count": 6,
     "metadata": {},
     "output_type": "execute_result"
    }
   ],
   "source": [
    "# visualizing hitrates\n",
    "save_state_hitrate_k = np.asarray(save_state_hitrate_k)\n",
    "save_state_hitrate_k"
   ],
   "metadata": {
    "collapsed": false,
    "pycharm": {
     "name": "#%%\n"
    }
   }
  },
  {
   "cell_type": "code",
   "execution_count": 7,
   "outputs": [
    {
     "data": {
      "text/plain": "array([17,  6,  0,  5,  2], dtype=int64)"
     },
     "execution_count": 7,
     "metadata": {},
     "output_type": "execute_result"
    }
   ],
   "source": [
    "# better and worst hitrate indexes\n",
    "argsminmax(save_state_hitrate_k, np.argmax)"
   ],
   "metadata": {
    "collapsed": false,
    "pycharm": {
     "name": "#%%\n"
    }
   }
  },
  {
   "cell_type": "code",
   "execution_count": 8,
   "outputs": [
    {
     "data": {
      "text/plain": "array([ 4, 10,  6,  7,  1], dtype=int64)"
     },
     "execution_count": 8,
     "metadata": {},
     "output_type": "execute_result"
    }
   ],
   "source": [
    "argsminmax(save_state_hitrate_k, np.argmin)"
   ],
   "metadata": {
    "collapsed": false,
    "pycharm": {
     "name": "#%%\n"
    }
   }
  },
  {
   "cell_type": "code",
   "execution_count": 9,
   "outputs": [
    {
     "data": {
      "text/plain": "<Figure size 432x288 with 1 Axes>",
      "image/png": "[encoded data removed]"
     },
     "metadata": {
      "needs_background": "light"
     },
     "output_type": "display_data"
    }
   ],
   "source": [
    "# accuracy and std by k-value\n",
    "acc = np.asarray(accuracy(save_state_hitrate_k)).reshape(len(ks_2b_tested), 1)\n",
    "plot_bar_acc(accuracy(save_state_hitrate_k), ks_2b_tested)"
   ],
   "metadata": {
    "collapsed": false,
    "pycharm": {
     "name": "#%%\n"
    }
   }
  },
  {
   "cell_type": "code",
   "execution_count": 10,
   "outputs": [
    {
     "data": {
      "text/plain": "<Figure size 432x288 with 1 Axes>",
      "image/png": "[encoded data removed]"
     },
     "metadata": {
      "needs_background": "light"
     },
     "output_type": "display_data"
    }
   ],
   "source": [
    "std = standard_deviation(save_state_hitrate_k)\n",
    "plot_bar_std(std, ks_2b_tested)"
   ],
   "metadata": {
    "collapsed": false,
    "pycharm": {
     "name": "#%%\n"
    }
   }
  },
  {
   "cell_type": "code",
   "execution_count": 10,
   "outputs": [],
   "source": [],
   "metadata": {
    "collapsed": false,
    "pycharm": {
     "name": "#%%\n"
    }
   }
  }
 ],
 "metadata": {
  "kernelspec": {
   "name": "venv",
   "language": "python",
   "display_name": "venv"
  },
  "language_info": {
   "codemirror_mode": {
    "name": "ipython",
    "version": 2
   },
   "file_extension": ".py",
   "mimetype": "text/x-python",
   "name": "python",
   "nbconvert_exporter": "python",
   "pygments_lexer": "ipython2",
   "version": "2.7.6"
  }
 },
 "nbformat": 4,
 "nbformat_minor": 0
}